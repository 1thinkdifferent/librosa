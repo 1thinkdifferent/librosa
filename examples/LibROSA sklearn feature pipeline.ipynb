{
 "metadata": {
  "name": "",
  "signature": "sha256:eb22d4043086b5cebe87ff5c04265027c35654e91060b26fd90d2e6bc948847e"
 },
 "nbformat": 3,
 "nbformat_minor": 0,
 "worksheets": [
  {
   "cells": [
    {
     "cell_type": "markdown",
     "metadata": {},
     "source": [
      "# LibROSA - scikit-learn feature pipeline integration\n",
      "\n",
      "Often, in machine learning applications, the feature extraction and statistical modeling are treated as separate problems.  In practice, this can create a disconnect between the implementations of the feature extraction methods and predictors.  While this isn't a huge deal in laboratory settings, it can be inconvenient when the goal is to package a predictive model for external use.\n",
      "\n",
      "In this notebook, we'll demonstrate how to use scikit-learn's `Pipeline` module to connect feature extraction methods with statistical learning.  For simplicity, we'll focus on k-means clustering of Mel-spectrogram features.  \n",
      "\n",
      "By the end of this notebook, we'll have a single, self-contained object `ClusterPipeline` which can accept as input a time series signal (audio waveform), and produce as output a sequence of frame cluster membership predictions.  This object will contain all of the necessary feature extraction parameters (e.g., frame length, hop length, frequency bounds, etc.), so that no additional feature code is necessary to make predictions for test signals.\n",
      "\n",
      "## librosa.util.FeatureExtractor\n",
      "\n",
      "The glue which allows librosa to interface with sklearn is the `FeatureExtractor` class.  This class is a generic wrapper which allows virtually any function to be converted into an object for pipelined feature extraction.  `FeatureExtractor` objects store a reference to the function, as well as keyword arguments to be used at extraction time, so that these values need not be stored externally."
     ]
    },
    {
     "cell_type": "code",
     "collapsed": false,
     "input": [
      "import librosa\n",
      "import numpy as np\n",
      "\n",
      "import sklearn\n",
      "import sklearn.cluster\n",
      "import sklearn.pipeline\n",
      "\n",
      "import matplotlib.pyplot as plt\n",
      "%matplotlib inline"
     ],
     "language": "python",
     "metadata": {},
     "outputs": [],
     "prompt_number": 1
    },
    {
     "cell_type": "code",
     "collapsed": false,
     "input": [
      "# We'll build the feature pipeline object here\n",
      "\n",
      "# First stage is a mel-frequency specrogram of bounded range\n",
      "MelSpec = librosa.util.FeatureExtractor(librosa.feature.melspectrogram, \n",
      "                                        n_fft=2048,\n",
      "                                        n_mels=128,\n",
      "                                        fmax=librosa.midi_to_hz(116), \n",
      "                                        fmin=librosa.midi_to_hz(24))\n",
      "\n",
      "# Second stage is log-amplitude; power is relative to peak in the signal\n",
      "LogAmp = librosa.util.FeatureExtractor(librosa.logamplitude, \n",
      "                                       ref_power=np.max)\n",
      "\n",
      "\n",
      "# Third stage transposes the data so that frames become samples\n",
      "Transpose = librosa.util.FeatureExtractor(np.transpose)\n",
      "\n",
      "# Last stage stacks all samples together into one matrix for training\n",
      "Stack = librosa.util.FeatureExtractor(np.vstack, iterate=False)"
     ],
     "language": "python",
     "metadata": {},
     "outputs": [],
     "prompt_number": 2
    },
    {
     "cell_type": "code",
     "collapsed": false,
     "input": [
      "# Now, build a learning object.  We'll use mini-batch k-means with default parameters.\n",
      "C = sklearn.cluster.MiniBatchKMeans()"
     ],
     "language": "python",
     "metadata": {},
     "outputs": [],
     "prompt_number": 3
    },
    {
     "cell_type": "code",
     "collapsed": false,
     "input": [
      "# Now, chain them all together into a pipeline\n",
      "ClusterPipe = sklearn.pipeline.Pipeline([('Mel spectrogram', MelSpec), \n",
      "                                         ('Log amplitude', LogAmp),\n",
      "                                         ('Transpose', Transpose),\n",
      "                                         ('Stack', Stack),\n",
      "                                         ('Cluster', C)])"
     ],
     "language": "python",
     "metadata": {},
     "outputs": [],
     "prompt_number": 4
    },
    {
     "cell_type": "code",
     "collapsed": false,
     "input": [
      "# Let's build a model using just the first 20 seconds of the example track\n",
      "\n",
      "y_train, sr = librosa.load(librosa.util.example_audio_file(), duration=20, offset=0.0)"
     ],
     "language": "python",
     "metadata": {},
     "outputs": [],
     "prompt_number": 5
    },
    {
     "cell_type": "code",
     "collapsed": false,
     "input": [
      "# Fit the model.  \n",
      "# [y_train] will be passed through the entire feature pipeline before k-means is trained\n",
      "ClusterPipe.fit([y_train])"
     ],
     "language": "python",
     "metadata": {},
     "outputs": [
      {
       "metadata": {},
       "output_type": "pyout",
       "prompt_number": 6,
       "text": [
        "Pipeline(steps=[('Mel spectrogram', FeatureExtractor(fmax=array([ 6644.87516]), fmin=array([ 32.7032]),\n",
        "         function=<function melspectrogram at 0x7f4396a5fb90>, n_fft=2048,\n",
        "         n_mels=128, target=None)), ('Log amplitude', FeatureExtractor(function=<function logamplitude at 0x7f439724ccf8>,\n",
        "       ...sters=8,\n",
        "        n_init=3, random_state=None, reassignment_ratio=0.01, tol=0.0,\n",
        "        verbose=0))])"
       ]
      }
     ],
     "prompt_number": 6
    },
    {
     "cell_type": "code",
     "collapsed": false,
     "input": [
      "# We can plot the resulting centroids\n",
      "plt.figure(figsize=(4, 4))\n",
      "\n",
      "librosa.display.specshow(C.cluster_centers_.T)\n",
      "\n",
      "plt.xticks(range(len(C.cluster_centers_)))\n",
      "plt.xlabel('Cluster #')\n",
      "\n",
      "plt.ylabel('Mel frequency')\n",
      "\n",
      "plt.colorbar(format='%+02.0f dB')\n",
      "\n",
      "plt.tight_layout()"
     ],
     "language": "python",
     "metadata": {},
     "outputs": [
      {
       "metadata": {},
       "output_type": "display_data",
       "png": "[encoded data removed]",
       "text": [
        "<matplotlib.figure.Figure at 0x7f438f28aad0>"
       ]
      }
     ],
     "prompt_number": 7
    },
    {
     "cell_type": "code",
     "collapsed": false,
     "input": [
      "# Now we can make predictions, in this case, frame-level cluster identifiers.\n",
      "# Let's run it on the training data, just to be sure it worked.\n",
      "ClusterPipe.predict([y_train])"
     ],
     "language": "python",
     "metadata": {},
     "outputs": [
      {
       "metadata": {},
       "output_type": "pyout",
       "prompt_number": 8,
       "text": [
        "array([0, 0, 0, 0, 0, 0, 0, 0, 0, 0, 0, 0, 0, 0, 0, 0, 0, 0, 0, 0, 0, 6, 6,\n",
        "       6, 6, 6, 6, 0, 0, 0, 0, 0, 0, 0, 0, 0, 0, 0, 0, 0, 0, 0, 0, 0, 0, 0,\n",
        "       0, 0, 0, 0, 0, 0, 0, 0, 0, 0, 0, 0, 0, 0, 0, 0, 0, 0, 0, 0, 0, 0, 0,\n",
        "       0, 0, 0, 0, 0, 0, 0, 0, 0, 0, 0, 0, 0, 0, 0, 0, 0, 0, 0, 0, 0, 0, 0,\n",
        "       0, 0, 0, 0, 0, 0, 0, 0, 0, 4, 0, 0, 0, 0, 0, 0, 0, 0, 0, 0, 0, 0, 0,\n",
        "       0, 0, 0, 0, 0, 0, 0, 0, 0, 0, 0, 0, 0, 0, 0, 0, 0, 0, 0, 0, 0, 0, 0,\n",
        "       0, 0, 0, 4, 0, 0, 0, 0, 0, 0, 0, 0, 0, 0, 0, 0, 0, 0, 0, 0, 0, 0, 0,\n",
        "       5, 5, 5, 5, 5, 5, 5, 5, 5, 5, 5, 5, 5, 5, 5, 5, 5, 5, 6, 6, 6, 6, 6,\n",
        "       6, 6, 6, 6, 6, 5, 5, 6, 6, 5, 5, 5, 5, 5, 5, 5, 5, 5, 5, 5, 5, 6, 5,\n",
        "       5, 5, 6, 6, 6, 6, 6, 6, 6, 6, 6, 6, 6, 6, 6, 6, 6, 5, 5, 5, 5, 5, 5,\n",
        "       5, 5, 5, 5, 5, 5, 5, 5, 5, 5, 5, 5, 5, 5, 5, 5, 5, 5, 5, 5, 5, 5, 5,\n",
        "       5, 5, 5, 5, 5, 5, 5, 6, 5, 5, 5, 5, 5, 5, 5, 5, 5, 5, 5, 5, 5, 5, 5,\n",
        "       5, 5, 5, 5, 5, 5, 5, 5, 5, 5, 5, 5, 5, 5, 5, 5, 5, 5, 5, 5, 5, 5, 5,\n",
        "       5, 5, 5, 5, 5, 5, 5, 5, 5, 5, 5, 5, 5, 5, 5, 5, 5, 5, 5, 7, 3, 3, 1,\n",
        "       1, 7, 7, 7, 7, 7, 7, 7, 7, 7, 7, 7, 7, 7, 7, 7, 2, 2, 2, 2, 2, 2, 6,\n",
        "       6, 1, 1, 1, 1, 1, 1, 6, 6, 1, 1, 3, 3, 3, 3, 3, 1, 1, 1, 1, 1, 1, 1,\n",
        "       2, 2, 2, 2, 6, 6, 6, 1, 1, 1, 1, 1, 3, 1, 1, 1, 7, 7, 7, 7, 7, 7, 7,\n",
        "       7, 7, 7, 7, 1, 7, 7, 7, 3, 1, 1, 7, 7, 7, 7, 7, 7, 7, 7, 7, 7, 7, 7,\n",
        "       7, 7, 7, 7, 1, 3, 1, 1, 7, 7, 7, 7, 7, 7, 7, 7, 7, 7, 7, 7, 1, 3, 3,\n",
        "       1, 1, 1, 7, 7, 7, 7, 1, 1, 1, 1, 1, 1, 1, 7, 7, 7, 1, 1, 7, 7, 1, 3,\n",
        "       1, 1, 7, 7, 7, 7, 7, 7, 7, 7, 7, 7, 7, 7, 7, 7, 7, 7, 1, 3, 1, 1, 1,\n",
        "       4, 7, 7, 7, 7, 4, 4, 4, 4, 0, 0, 7, 7, 7, 6, 2, 2, 2, 2, 2, 6, 6, 1,\n",
        "       1, 1, 1, 1, 1, 1, 4, 1, 3, 3, 1, 1, 1, 1, 1, 1, 1, 1, 1, 1, 1, 2, 2,\n",
        "       2, 2, 2, 6, 2, 2, 2, 2, 1, 2, 2, 1, 1, 1, 1, 1, 1, 1, 1, 1, 1, 1, 4,\n",
        "       4, 1, 1, 1, 1, 1, 3, 3, 1, 1, 4, 4, 4, 4, 4, 4, 4, 1, 4, 4, 4, 4, 1,\n",
        "       1, 1, 2, 2, 2, 2, 2, 2, 2, 2, 1, 1, 1, 2, 1, 1, 1, 1, 1, 1, 1, 1, 1,\n",
        "       1, 1, 1, 1, 1, 4, 4, 4, 2, 3, 3, 3, 3, 2, 2, 2, 2, 2, 2, 2, 2, 2, 2,\n",
        "       2, 2, 3, 3, 3, 3, 1, 1, 1, 1, 1, 1, 1, 1, 1, 4, 3, 2, 2, 4, 4, 4, 4,\n",
        "       4, 4, 4, 4, 4, 4, 4, 4, 0, 0, 0, 4, 3, 3, 3, 3, 3, 3, 3, 3, 1, 4, 4,\n",
        "       4, 4, 4, 4, 1, 3, 1, 4, 4, 4, 4, 4, 4, 4, 4, 4, 3, 3, 1, 1, 2, 2, 4,\n",
        "       4, 4, 4, 4, 4, 4, 3, 3, 3, 3, 3, 3, 1, 4, 4, 4, 4, 2, 2, 4, 4, 1, 3,\n",
        "       1, 1, 1, 3, 3, 3, 1, 4, 4, 4, 4, 4, 4, 4, 4, 4, 4, 4, 4, 4, 4, 4, 3,\n",
        "       3, 3, 3, 3, 3, 3, 1, 4, 4, 4, 1, 1, 4, 4, 1, 3, 3, 1, 4, 4, 1, 4, 4,\n",
        "       4, 4, 2, 2, 4, 4, 4, 1, 4, 4, 4, 4, 4, 4, 4, 4, 3, 3, 3, 3, 3, 3, 3,\n",
        "       3, 1, 1, 1, 2, 2, 4, 4, 4, 1, 3, 1, 1, 4, 3, 3, 1, 4, 4, 4, 4, 4, 4,\n",
        "       4, 4, 4, 4, 0, 0, 0, 0, 0, 0, 3, 3, 3, 3, 3, 3, 3, 3, 1, 4, 4, 4, 4,\n",
        "       4, 4, 1, 3, 1, 4, 4, 4, 4, 4, 4, 0, 4, 4, 3, 3, 1, 1, 2, 1, 4, 4, 4,\n",
        "       4, 4, 4, 4, 3, 3, 3, 3, 3, 3, 3], dtype=int32)"
       ]
      }
     ],
     "prompt_number": 8
    },
    {
     "cell_type": "code",
     "collapsed": false,
     "input": [
      "# Now we can test it on a different portion of the track: [20s, 25s]\n",
      "\n",
      "y_test, sr = librosa.load(librosa.util.example_audio_file(), duration=5, offset=20.0)"
     ],
     "language": "python",
     "metadata": {},
     "outputs": [],
     "prompt_number": 9
    },
    {
     "cell_type": "code",
     "collapsed": false,
     "input": [
      "ClusterPipe.predict([y_test])"
     ],
     "language": "python",
     "metadata": {},
     "outputs": [
      {
       "metadata": {},
       "output_type": "pyout",
       "prompt_number": 10,
       "text": [
        "array([1, 4, 4, 4, 1, 2, 4, 4, 4, 1, 1, 1, 7, 1, 3, 3, 1, 4, 4, 4, 4, 0, 0,\n",
        "       0, 0, 4, 0, 0, 0, 4, 4, 0, 1, 3, 3, 3, 3, 3, 3, 3, 1, 4, 4, 4, 1, 4,\n",
        "       4, 4, 1, 3, 1, 1, 4, 4, 7, 7, 7, 7, 4, 2, 2, 4, 4, 1, 1, 4, 7, 0, 0,\n",
        "       4, 4, 0, 4, 3, 3, 3, 3, 3, 3, 3, 1, 1, 4, 1, 2, 2, 4, 4, 4, 1, 3, 1,\n",
        "       4, 1, 3, 2, 1, 4, 4, 4, 0, 0, 0, 0, 4, 4, 0, 0, 0, 0, 0, 0, 0, 3, 3,\n",
        "       3, 3, 3, 3, 3, 1, 1, 4, 4, 4, 4, 4, 4, 1, 3, 1, 4, 4, 4, 1, 4, 0, 0,\n",
        "       4, 2, 3, 3, 1, 2, 2, 1, 4, 4, 4, 4, 4, 0, 1, 3, 3, 3, 3, 3, 3, 1, 4,\n",
        "       4, 4, 2, 2, 2, 6, 4, 2, 2, 1, 1, 1, 3, 3, 2, 1, 4, 4, 4, 0, 0, 0, 0,\n",
        "       4, 0, 0, 0, 4, 4, 0, 1, 3, 3, 3, 3, 3, 3, 3, 1, 4, 4, 4, 1, 1, 4, 4,\n",
        "       1, 3, 1, 1, 4, 4, 1, 1, 1], dtype=int32)"
       ]
      }
     ],
     "prompt_number": 10
    }
   ],
   "metadata": {}
  }
 ]
}